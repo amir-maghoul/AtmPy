{
 "cells": [
  {
   "metadata": {
    "ExecuteTime": {
     "end_time": "2025-02-16T12:20:24.115504Z",
     "start_time": "2025-02-16T12:20:24.033063Z"
    }
   },
   "cell_type": "code",
   "source": "import numpy as np",
   "id": "9f35ff1f8999d0f0",
   "outputs": [],
   "execution_count": 3
  },
  {
   "metadata": {
    "ExecuteTime": {
     "end_time": "2025-02-16T12:20:27.776629Z",
     "start_time": "2025-02-16T12:20:27.773562Z"
    }
   },
   "cell_type": "code",
   "source": [
    "def get_ghost_padding(ndim,dim,igs):\n",
    "    \"\"\"\n",
    "    For a given direction, return the number of ghost cells to pad the current direction, and the index slice of the inner array without the ghost cells.\n",
    "\n",
    "    Parameters\n",
    "    ----------\n",
    "    ndim : int\n",
    "        Number of dimensions for the problem.\n",
    "    dim : int\n",
    "        Current dimension to update\n",
    "    igs : list\n",
    "        A list of number of ghost cells in all dimensions, e.g. `[2,2,2]` for 2 ghost cells in the x, y, and z directions.\n",
    "\n",
    "    Returns\n",
    "    -------\n",
    "    tuple\n",
    "        Number of ghost cells in the current dimension at both edges.\n",
    "    tuple\n",
    "        Index slice of the inner domain of the array.\n",
    "\n",
    "    \"\"\"\n",
    "    ghost_padding = [(0,0)] * ndim\n",
    "    ghost_padding[dim] = (igs[dim],igs[dim])\n",
    "\n",
    "    padded_idx = np.empty((ndim), dtype=object)\n",
    "    for idim in range(ndim):\n",
    "        padded_idx[idim] = slice(igs[idim],-igs[idim])\n",
    "    padded_idx[dim] = slice(None)\n",
    "\n",
    "    inner_domain = [slice(None)] * ndim\n",
    "    inner_domain[dim] = slice(igs[dim],-igs[dim])\n",
    "\n",
    "    return tuple(ghost_padding),  tuple(inner_domain)"
   ],
   "id": "7f89d1ba51c0a27c",
   "outputs": [],
   "execution_count": 4
  },
  {
   "metadata": {
    "ExecuteTime": {
     "end_time": "2025-02-16T12:21:50.166137Z",
     "start_time": "2025-02-16T12:21:50.163333Z"
    }
   },
   "cell_type": "code",
   "source": [
    "ndim = 2\n",
    "for i in range(ndim):\n",
    "    x, idx = get_ghost_padding(ndim,i,[2,3,4])\n",
    "    print(idx)\n",
    "    print(x)"
   ],
   "id": "7135c4a1339523da",
   "outputs": [
    {
     "name": "stdout",
     "output_type": "stream",
     "text": [
      "(slice(2, -2, None), slice(None, None, None))\n",
      "((2, 2), (0, 0))\n",
      "(slice(None, None, None), slice(3, -3, None))\n",
      "((0, 0), (3, 3))\n"
     ]
    }
   ],
   "execution_count": 9
  }
 ],
 "metadata": {
  "kernelspec": {
   "display_name": "Python 3",
   "language": "python",
   "name": "python3"
  },
  "language_info": {
   "codemirror_mode": {
    "name": "ipython",
    "version": 2
   },
   "file_extension": ".py",
   "mimetype": "text/x-python",
   "name": "python",
   "nbconvert_exporter": "python",
   "pygments_lexer": "ipython2",
   "version": "2.7.6"
  }
 },
 "nbformat": 4,
 "nbformat_minor": 5
}
