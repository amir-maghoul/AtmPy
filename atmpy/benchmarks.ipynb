{
 "cells": [
  {
   "cell_type": "code",
   "id": "initial_id",
   "metadata": {
    "collapsed": true,
    "ExecuteTime": {
     "end_time": "2025-02-04T16:30:05.225707Z",
     "start_time": "2025-02-04T16:29:56.050794Z"
    }
   },
   "source": [
    "import numpy as np\n",
    "from scipy import ndimage, signal\n",
    "\n",
    "data = np.random.rand(1000, 1000)\n",
    "kernel = np.random.rand(3, 3)\n",
    "\n",
    "# Spatial convolution\n",
    "%timeit ndimage.convolve(data, kernel, mode='constant')  # ~200 ms\n",
    "\n",
    "# FFT-based convolution\n",
    "%timeit signal.fftconvolve(data, kernel, mode='same')     # ~50 ms\n",
    "\n",
    "%timeit signal.convolve(data, kernel)\n"
   ],
   "outputs": [
    {
     "name": "stdout",
     "output_type": "stream",
     "text": [
      "6.26 ms ± 91.7 μs per loop (mean ± std. dev. of 7 runs, 100 loops each)\n",
      "24.9 ms ± 96.2 μs per loop (mean ± std. dev. of 7 runs, 10 loops each)\n",
      "25.1 ms ± 149 μs per loop (mean ± std. dev. of 7 runs, 10 loops each)\n"
     ]
    }
   ],
   "execution_count": 5
  }
 ],
 "metadata": {
  "kernelspec": {
   "display_name": "Python 3",
   "language": "python",
   "name": "python3"
  },
  "language_info": {
   "codemirror_mode": {
    "name": "ipython",
    "version": 2
   },
   "file_extension": ".py",
   "mimetype": "text/x-python",
   "name": "python",
   "nbconvert_exporter": "python",
   "pygments_lexer": "ipython2",
   "version": "2.7.6"
  }
 },
 "nbformat": 4,
 "nbformat_minor": 5
}
