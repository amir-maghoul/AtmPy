{
 "cells": [
  {
   "metadata": {
    "ExecuteTime": {
     "end_time": "2025-02-08T14:02:59.961083Z",
     "start_time": "2025-02-08T14:02:59.106408Z"
    }
   },
   "cell_type": "code",
   "source": [
    "import numpy as np\n",
    "from numba import njit, prange\n",
    "import time\n",
    "\n",
    "\n",
    "# NumPy implementation\n",
    "def van_leer_numpy(a: np.ndarray, b: np.ndarray):\n",
    "    result = np.zeros_like(a)\n",
    "    # same_sign_mask = (a * b) > 0\n",
    "    # a_masked = a[same_sign_mask]\n",
    "    # b_masked = b[same_sign_mask]\n",
    "    # result[same_sign_mask] = (2 * a_masked * b_masked) / (a_masked + b_masked)\n",
    "    result = (2 * a * b) / (a + b)\n",
    "    return result\n",
    "\n",
    "\n",
    "# Numba implementation\n",
    "@njit(parallel=True)\n",
    "def van_leer_numba(a: np.ndarray, b: np.ndarray):\n",
    "    result = np.zeros_like(a)\n",
    "    for i in prange(a.shape[0]):\n",
    "        for j in range(a.shape[1]):\n",
    "            for k in range(a.shape[2]):\n",
    "                result[i, j, k] = (2 * a[i, j, k] * b[i, j, k]) / (\n",
    "                    a[i, j, k] + b[i, j, k]\n",
    "                )\n",
    "    # result[result < 0] = 0\n",
    "    return result\n",
    "\n",
    "\n",
    "# Test data\n",
    "a = np.random.rand(10**3, 10**3, 5) - 0.5  # Random data with positive/negative values\n",
    "b = np.random.rand(10**3, 10**3, 5) - 0.5\n",
    "\n",
    "# Benchmark NumPy\n",
    "start = time.time()\n",
    "result_numpy = van_leer_numpy(a, b)\n",
    "print(f\"NumPy time: {time.time() - start:.4f} seconds\")\n",
    "\n",
    "# Benchmark Numba (first run includes compilation time)\n",
    "start = time.time()\n",
    "result_numba = van_leer_numba(a, b)\n",
    "print(f\"Numba time (first run): {time.time() - start:.4f} seconds\")\n",
    "\n",
    "# Benchmark Numba (subsequent runs)\n",
    "start = time.time()\n",
    "result_numba = van_leer_numba(a, b)\n",
    "print(f\"Numba time (second run): {time.time() - start:.4f} seconds\")\n",
    "\n",
    "# Verify correctness\n",
    "assert np.allclose(result_numpy, result_numba), \"Results differ!\""
   ],
   "id": "7f89d1ba51c0a27c",
   "outputs": [
    {
     "name": "stdout",
     "output_type": "stream",
     "text": [
      "NumPy time: 0.0326 seconds\n",
      "Numba time (first run): 0.6878 seconds\n",
      "Numba time (second run): 0.0264 seconds\n"
     ]
    }
   ],
   "execution_count": 4
  }
 ],
 "metadata": {
  "kernelspec": {
   "display_name": "Python 3",
   "language": "python",
   "name": "python3"
  },
  "language_info": {
   "codemirror_mode": {
    "name": "ipython",
    "version": 2
   },
   "file_extension": ".py",
   "mimetype": "text/x-python",
   "name": "python",
   "nbconvert_exporter": "python",
   "pygments_lexer": "ipython2",
   "version": "2.7.6"
  }
 },
 "nbformat": 4,
 "nbformat_minor": 5
}
