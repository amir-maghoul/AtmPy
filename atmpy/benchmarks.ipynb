{
 "cells": [
  {
   "cell_type": "code",
   "id": "initial_id",
   "metadata": {
    "collapsed": true,
    "ExecuteTime": {
     "end_time": "2025-02-05T14:24:59.715709Z",
     "start_time": "2025-02-05T14:24:59.711714Z"
    }
   },
   "source": [
    "import numpy as np\n",
    "from scipy import ndimage, signal\n",
    "\n",
    "rng = np.random.default_rng()\n",
    "arr = np.arange(30, dtype=float)\n",
    "rng.shuffle(arr)\n",
    "data = arr.reshape(5, 6)\n",
    "print(data)\n",
    "\n",
    "\n",
    "kernel = np.array([[0.5, 1.0, 0.5], [0.5, 1.0, 0.5]], dtype=float)\n",
    "\n",
    "# Spatial convolution\n",
    "x = ndimage.convolve(data, kernel, mode=\"constant\")  # ~200 ms\n",
    "# FFT-based convolution\n",
    "y = signal.fftconvolve(data, kernel, mode=\"valid\")  # ~50 ms"
   ],
   "outputs": [
    {
     "name": "stdout",
     "output_type": "stream",
     "text": [
      "[[17.  4. 18.  7. 10. 23.]\n",
      " [22.  1. 25. 12.  3. 20.]\n",
      " [26.  8.  6. 19. 16. 13.]\n",
      " [29. 21. 15. 14.  0. 24.]\n",
      " [11. 27.  5.  2.  9. 28.]]\n"
     ]
    }
   ],
   "execution_count": 26
  },
  {
   "metadata": {
    "ExecuteTime": {
     "end_time": "2025-02-05T14:25:01.530126Z",
     "start_time": "2025-02-05T14:25:01.527361Z"
    }
   },
   "cell_type": "code",
   "source": "print(x)",
   "id": "f45638be068cc85b",
   "outputs": [
    {
     "name": "stdout",
     "output_type": "stream",
     "text": [
      "[[41.5 46.  55.  47.  44.  49.5]\n",
      " [52.5 48.5 51.  56.  51.  42.5]\n",
      " [69.5 67.  52.  51.5 51.  45. ]\n",
      " [64.  78.  52.  30.5 43.  56.5]\n",
      " [24.5 35.  19.5  9.  24.  32.5]]\n"
     ]
    }
   ],
   "execution_count": 27
  },
  {
   "metadata": {
    "ExecuteTime": {
     "end_time": "2025-02-05T14:25:02.427165Z",
     "start_time": "2025-02-05T14:25:02.424726Z"
    }
   },
   "cell_type": "code",
   "source": "print(y)",
   "id": "b748eeeaa3baa055",
   "outputs": [
    {
     "name": "stdout",
     "output_type": "stream",
     "text": [
      "[[46.  55.  47.  44. ]\n",
      " [48.5 51.  56.  51. ]\n",
      " [67.  52.  51.5 51. ]\n",
      " [78.  52.  30.5 43. ]]\n"
     ]
    }
   ],
   "execution_count": 28
  },
  {
   "metadata": {
    "ExecuteTime": {
     "end_time": "2025-02-07T17:05:27.068747Z",
     "start_time": "2025-02-07T17:05:27.065834Z"
    }
   },
   "cell_type": "code",
   "source": [
    "def f(a, b, *args, **kwargs):\n",
    "    return a + b + args[0] + args[1]\n",
    "\n",
    "\n",
    "f(1, 2, 3, 4)"
   ],
   "id": "3cba54d863b2bd3a",
   "outputs": [
    {
     "data": {
      "text/plain": [
       "10"
      ]
     },
     "execution_count": 3,
     "metadata": {},
     "output_type": "execute_result"
    }
   ],
   "execution_count": 3
  }
 ],
 "metadata": {
  "kernelspec": {
   "display_name": "Python 3",
   "language": "python",
   "name": "python3"
  },
  "language_info": {
   "codemirror_mode": {
    "name": "ipython",
    "version": 2
   },
   "file_extension": ".py",
   "mimetype": "text/x-python",
   "name": "python",
   "nbconvert_exporter": "python",
   "pygments_lexer": "ipython2",
   "version": "2.7.6"
  }
 },
 "nbformat": 4,
 "nbformat_minor": 5
}
