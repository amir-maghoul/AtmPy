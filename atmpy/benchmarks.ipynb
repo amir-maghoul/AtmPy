{
 "cells": [
  {
   "metadata": {
    "ExecuteTime": {
     "end_time": "2025-02-08T13:11:43.575247Z",
     "start_time": "2025-02-08T13:11:43.071722Z"
    }
   },
   "cell_type": "code",
   "source": [
    "from atmpy.flux.flux import Flux\n",
    "from atmpy.grid.kgrid import Grid\n",
    "from atmpy.variables.variables import Variables\n",
    "import numpy as np\n",
    "from atmpy.grid.utility import DimensionSpec, create_grid\n",
    "from atmpy.physics.eos import ExnerBasedEOS\n",
    "from atmpy.data.enums import PrimitiveVariableIndices as PVI, VariableIndices as VI\n",
    "\n",
    "\n",
    "np.set_printoptions(linewidth=100)\n",
    "\n",
    "dt = 0.1\n",
    "\n",
    "dim = [DimensionSpec(996, 0, 2, 2), DimensionSpec(996, 0, 2, 2)]\n",
    "grid = create_grid(dim)\n",
    "rng = np.random.default_rng()\n",
    "arr = np.arange(1_000_000)\n",
    "rng.shuffle(arr)\n",
    "array = arr.reshape(1000, 1000)\n",
    "\n",
    "variables = Variables(grid, 5, 1)\n",
    "variables.cell_vars[..., VI.RHO] = 1\n",
    "variables.cell_vars[..., VI.RHOU] = array\n",
    "variables.cell_vars[..., VI.RHOY] = 2\n",
    "\n",
    "rng.shuffle(arr)\n",
    "array = arr.reshape(1000, 1000)\n",
    "variables.cell_vars[..., VI.RHOV] = array\n",
    "eos = ExnerBasedEOS()\n",
    "flux = Flux(grid, variables, eos, dt)\n",
    "variables.to_primitive(eos)\n",
    "primitives = variables.primitives\n",
    "direction = \"x\"\n",
    "\n",
    "# %time flux.apply_riemann_solver(1, direction, True)\n",
    "%time flux.apply_riemann_solver(1, direction)"
   ],
   "id": "7f89d1ba51c0a27c",
   "outputs": [
    {
     "name": "stdout",
     "output_type": "stream",
     "text": [
      "CPU times: user 235 ms, sys: 107 ms, total: 342 ms\n",
      "Wall time: 310 ms\n"
     ]
    }
   ],
   "execution_count": 2
  }
 ],
 "metadata": {
  "kernelspec": {
   "display_name": "Python 3",
   "language": "python",
   "name": "python3"
  },
  "language_info": {
   "codemirror_mode": {
    "name": "ipython",
    "version": 2
   },
   "file_extension": ".py",
   "mimetype": "text/x-python",
   "name": "python",
   "nbconvert_exporter": "python",
   "pygments_lexer": "ipython2",
   "version": "2.7.6"
  }
 },
 "nbformat": 4,
 "nbformat_minor": 5
}
