{
 "cells": [
  {
   "metadata": {
    "ExecuteTime": {
     "end_time": "2025-03-10T16:37:34.303760Z",
     "start_time": "2025-03-10T16:37:34.301261Z"
    }
   },
   "cell_type": "code",
   "source": "import numpy as np",
   "id": "9f35ff1f8999d0f0",
   "outputs": [],
   "execution_count": 3
  },
  {
   "metadata": {
    "ExecuteTime": {
     "end_time": "2025-03-10T17:02:58.085374Z",
     "start_time": "2025-03-10T17:02:58.082591Z"
    }
   },
   "cell_type": "code",
   "source": [
    "def get_gravity_padding(ndim, cur_idx, direction, offset, elem, y_axs=None):\n",
    "    \"\"\"\n",
    "    Parameters\n",
    "    ----------\n",
    "    ndim : int\n",
    "        Number of dimensions.\n",
    "    cur_idx : int\n",
    "        The current index of the ghost cell in the gravity direction to be updated.\n",
    "    direction : int\n",
    "        Top of the domain, `direction=+1`, bottom of the domain, `direction=-1`.\n",
    "    offset : int\n",
    "        `offset=0`, index starts counting from 0,1.... `offset=1`, index starts counting from -1,-2,..., i.e. end-selection of the array.\n",
    "    elem : :class:`discretization.kgrid.ElemSpaceDiscr`\n",
    "        Cell grid.\n",
    "    y_axs : int, optional\n",
    "        `Default == None`. Specifies the direction of the gravity axis. If `None`, then direction is the the y-axis.\n",
    "\n",
    "    \"\"\"\n",
    "    cur_i = np.copy(cur_idx)\n",
    "    cur_idx += offset * ((elem.ncy_total - 1) - 2 * cur_idx)\n",
    "    gravity_padding = [slice(None)] * ndim\n",
    "    if y_axs == None:\n",
    "        # y_axs = ndim - 1\n",
    "        y_axs = 1\n",
    "\n",
    "    nlast = np.copy(gravity_padding)\n",
    "    nlast[y_axs] = int(cur_idx + direction)\n",
    "\n",
    "    nsource = np.copy(gravity_padding)\n",
    "    nsource[y_axs] = int(\n",
    "        offset * (elem.ncy_total + 1)\n",
    "        + direction * (2 * elem.ngy - (1 - offset) - cur_i)\n",
    "    )\n",
    "\n",
    "    nimage = np.copy(gravity_padding)\n",
    "    nimage[y_axs] = int(cur_idx)\n",
    "    return tuple(nlast), tuple(nsource), tuple(nimage)"
   ],
   "id": "7f89d1ba51c0a27c",
   "outputs": [],
   "execution_count": 29
  },
  {
   "metadata": {
    "ExecuteTime": {
     "end_time": "2025-03-10T17:02:59.681698Z",
     "start_time": "2025-03-10T17:02:59.678715Z"
    }
   },
   "cell_type": "code",
   "source": [
    "from atmpy.grid.utility import DimensionSpec, create_grid\n",
    "\n",
    "ndim = 2\n",
    "dim = [DimensionSpec(1, 0, 2, 2), DimensionSpec(3, 0, 2, 2)]\n",
    "grid = create_grid(dim)\n",
    "\n",
    "direction = 1\n",
    "offset = 0\n",
    "cur_idx = 0\n",
    "\n",
    "x, y, z = get_gravity_padding(ndim, cur_idx, direction, offset, grid)"
   ],
   "id": "7135c4a1339523da",
   "outputs": [],
   "execution_count": 30
  },
  {
   "metadata": {
    "ExecuteTime": {
     "end_time": "2025-03-10T17:03:01.950758Z",
     "start_time": "2025-03-10T17:03:01.948576Z"
    }
   },
   "cell_type": "code",
   "source": "print(x, y, z)",
   "id": "6c47f8bbd747589f",
   "outputs": [
    {
     "name": "stdout",
     "output_type": "stream",
     "text": [
      "(slice(None, None, None), 1) (slice(None, None, None), 3) (slice(None, None, None), 0)\n"
     ]
    }
   ],
   "execution_count": 31
  }
 ],
 "metadata": {
  "kernelspec": {
   "display_name": "Python 3",
   "language": "python",
   "name": "python3"
  },
  "language_info": {
   "codemirror_mode": {
    "name": "ipython",
    "version": 2
   },
   "file_extension": ".py",
   "mimetype": "text/x-python",
   "name": "python",
   "nbconvert_exporter": "python",
   "pygments_lexer": "ipython2",
   "version": "2.7.6"
  }
 },
 "nbformat": 4,
 "nbformat_minor": 5
}
