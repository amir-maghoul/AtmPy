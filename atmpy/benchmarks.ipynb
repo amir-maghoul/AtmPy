{
 "cells": [
  {
   "metadata": {
    "ExecuteTime": {
     "end_time": "2025-04-01T11:30:37.780932Z",
     "start_time": "2025-04-01T11:30:37.687315Z"
    }
   },
   "cell_type": "code",
   "source": "import numpy as np",
   "id": "9f35ff1f8999d0f0",
   "outputs": [],
   "execution_count": 2
  },
  {
   "metadata": {
    "ExecuteTime": {
     "end_time": "2025-04-01T11:32:42.517540Z",
     "start_time": "2025-04-01T11:32:42.512905Z"
    }
   },
   "cell_type": "code",
   "source": [
    "ndim = 2\n",
    "rhs = np.arange(30).reshape((6, 5))\n",
    "igs = [2, 2]\n",
    "factor = 100\n",
    "wall_idx = np.empty((ndim), dtype=object)\n",
    "for dim in range(ndim):\n",
    "    wall_idx[dim] = slice(igs[dim], -igs[dim])\n",
    "print(rhs)\n",
    "for dim in range(ndim):\n",
    "    if True:\n",
    "        for direction in [-1, 1]:\n",
    "            wall_idx[dim] = (igs[dim] - 1) * direction\n",
    "            if direction == -1:\n",
    "                wall_idx[dim] -= 1\n",
    "            wall_idx_tuple = tuple(wall_idx)\n",
    "            rhs[wall_idx_tuple] *= factor\n",
    "            print(wall_idx_tuple)\n",
    "\n",
    "print(rhs)"
   ],
   "id": "b2e1fef74841a7b4",
   "outputs": [
    {
     "name": "stdout",
     "output_type": "stream",
     "text": [
      "[[ 0  1  2  3  4]\n",
      " [ 5  6  7  8  9]\n",
      " [10 11 12 13 14]\n",
      " [15 16 17 18 19]\n",
      " [20 21 22 23 24]\n",
      " [25 26 27 28 29]]\n",
      "(-2, slice(2, -2, None))\n",
      "(1, slice(2, -2, None))\n",
      "(1, -2)\n",
      "(1, 1)\n",
      "[[   0    1    2    3    4]\n",
      " [   5  600  700  800    9]\n",
      " [  10   11   12   13   14]\n",
      " [  15   16   17   18   19]\n",
      " [  20   21 2200   23   24]\n",
      " [  25   26   27   28   29]]\n"
     ]
    }
   ],
   "execution_count": 7
  },
  {
   "metadata": {
    "ExecuteTime": {
     "end_time": "2025-03-27T19:17:23.134251Z",
     "start_time": "2025-03-27T19:17:23.125507Z"
    }
   },
   "cell_type": "code",
   "source": "",
   "id": "c5ab0b0693af4f2d",
   "outputs": [],
   "execution_count": 41
  },
  {
   "metadata": {
    "ExecuteTime": {
     "end_time": "2025-03-27T19:23:51.654297Z",
     "start_time": "2025-03-27T19:23:51.648277Z"
    }
   },
   "cell_type": "code",
   "source": "",
   "id": "59278cfd6e4ed1aa",
   "outputs": [],
   "execution_count": 47
  },
  {
   "metadata": {
    "ExecuteTime": {
     "end_time": "2025-03-27T19:23:54.204174Z",
     "start_time": "2025-03-27T19:23:54.196841Z"
    }
   },
   "cell_type": "code",
   "source": "",
   "id": "e4baee293643229",
   "outputs": [],
   "execution_count": 48
  },
  {
   "metadata": {
    "ExecuteTime": {
     "end_time": "2025-03-27T19:23:54.924061Z",
     "start_time": "2025-03-27T19:23:54.921271Z"
    }
   },
   "cell_type": "code",
   "source": "",
   "id": "2d76e7639e4ce522",
   "outputs": [],
   "execution_count": 49
  },
  {
   "metadata": {
    "ExecuteTime": {
     "end_time": "2025-03-27T19:23:56.253962Z",
     "start_time": "2025-03-27T19:23:56.243700Z"
    }
   },
   "cell_type": "code",
   "source": "",
   "id": "6ff5f897e12d0f5f",
   "outputs": [],
   "execution_count": 50
  },
  {
   "metadata": {
    "ExecuteTime": {
     "end_time": "2025-03-27T19:25:01.299509Z",
     "start_time": "2025-03-27T19:23:57.507925Z"
    }
   },
   "cell_type": "code",
   "source": "",
   "id": "792c03831d5c14a8",
   "outputs": [
    {
     "name": "stdout",
     "output_type": "stream",
     "text": [
      "Numba 2D:  0.530577 s per run\n",
      "Scipy 2D:  0.076421 s per run\n",
      "Numpy 2D:  0.018389 s per run\n",
      "2D: Maximum difference in grad_x numba: 1.1102230246251565e-16\n",
      "2D: Maximum difference in grad_x numpy: 1.1102230246251565e-16\n",
      "\n",
      "Benchmarking 3D implementations\n",
      "Numba 3D:  1.708513 s per run\n",
      "Scipy 3D:  1.813149 s per run\n",
      "Numpy 3D:  0.564412 s per run\n",
      "3D: Maximum difference in grad_x numba: 3.3306690738754696e-16\n",
      "3D: Maximum difference in grad_x numpy: 3.3306690738754696e-16\n"
     ]
    }
   ],
   "execution_count": 51
  },
  {
   "metadata": {
    "ExecuteTime": {
     "end_time": "2025-03-27T19:18:10.815377Z",
     "start_time": "2025-03-27T19:18:10.813579Z"
    }
   },
   "cell_type": "code",
   "source": "",
   "id": "a91aa8eac63605a7",
   "outputs": [],
   "execution_count": null
  }
 ],
 "metadata": {
  "kernelspec": {
   "display_name": "Python 3",
   "language": "python",
   "name": "python3"
  },
  "language_info": {
   "codemirror_mode": {
    "name": "ipython",
    "version": 2
   },
   "file_extension": ".py",
   "mimetype": "text/x-python",
   "name": "python",
   "nbconvert_exporter": "python",
   "pygments_lexer": "ipython2",
   "version": "2.7.6"
  }
 },
 "nbformat": 4,
 "nbformat_minor": 5
}
