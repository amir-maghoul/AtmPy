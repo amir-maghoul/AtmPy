{
 "cells": [
  {
   "cell_type": "code",
   "id": "initial_id",
   "metadata": {
    "collapsed": true,
    "ExecuteTime": {
     "end_time": "2025-02-05T13:34:45.944936Z",
     "start_time": "2025-02-05T13:34:45.939531Z"
    }
   },
   "source": [
    "import numpy as np\n",
    "from scipy import ndimage, signal\n",
    "\n",
    "rng = np.random.default_rng()\n",
    "arr = np.arange(30)\n",
    "rng.shuffle(arr)\n",
    "data = arr.reshape(5, 6)\n",
    "\n",
    "\n",
    "kernel = np.array([[0.5, 1.0, 0.5], [0.5, 1.0, 0.5]], dtype=float)\n",
    "\n",
    "# Spatial convolution\n",
    "x = ndimage.convolve(data, kernel, mode='constant')  # ~200 ms\n",
    "# FFT-based convolution\n",
    "y = signal.fftconvolve(data, kernel, mode='valid')     # ~50 ms\n",
    "x\n"
   ],
   "outputs": [
    {
     "data": {
      "text/plain": [
       "array([[49, 58, 56, 56, 58, 55],\n",
       "       [58, 84, 68, 55, 62, 46],\n",
       "       [49, 74, 65, 48, 41, 22],\n",
       "       [60, 60, 54, 62, 47, 20],\n",
       "       [33, 26, 22, 38, 32, 11]])"
      ]
     },
     "execution_count": 2,
     "metadata": {},
     "output_type": "execute_result"
    }
   ],
   "execution_count": 2
  },
  {
   "metadata": {
    "ExecuteTime": {
     "end_time": "2025-02-05T13:28:39.995710Z",
     "start_time": "2025-02-05T13:28:39.992521Z"
    }
   },
   "cell_type": "code",
   "source": "x",
   "id": "f45638be068cc85b",
   "outputs": [
    {
     "data": {
      "text/plain": [
       "array([[37, 42, 66, 77, 48, 24],\n",
       "       [49, 58, 72, 66, 42, 30],\n",
       "       [32, 57, 83, 76, 44, 21],\n",
       "       [43, 58, 74, 76, 51, 28],\n",
       "       [34, 38, 35, 36, 29, 22]])"
      ]
     },
     "execution_count": 19,
     "metadata": {},
     "output_type": "execute_result"
    }
   ],
   "execution_count": 19
  },
  {
   "metadata": {
    "ExecuteTime": {
     "end_time": "2025-02-05T13:19:29.886349Z",
     "start_time": "2025-02-05T13:19:29.882731Z"
    }
   },
   "cell_type": "code",
   "source": "y",
   "id": "b748eeeaa3baa055",
   "outputs": [
    {
     "data": {
      "text/plain": [
       "array([[65.5, 85.5, 95. , 91.5],\n",
       "       [67.5, 73. , 86. , 74.5],\n",
       "       [37.5, 44.5, 59.5, 53.5],\n",
       "       [40. , 49. , 52. , 44. ]])"
      ]
     },
     "execution_count": 5,
     "metadata": {},
     "output_type": "execute_result"
    }
   ],
   "execution_count": 5
  },
  {
   "metadata": {},
   "cell_type": "code",
   "outputs": [],
   "execution_count": null,
   "source": "",
   "id": "3cba54d863b2bd3a"
  }
 ],
 "metadata": {
  "kernelspec": {
   "display_name": "Python 3",
   "language": "python",
   "name": "python3"
  },
  "language_info": {
   "codemirror_mode": {
    "name": "ipython",
    "version": 2
   },
   "file_extension": ".py",
   "mimetype": "text/x-python",
   "name": "python",
   "nbconvert_exporter": "python",
   "pygments_lexer": "ipython2",
   "version": "2.7.6"
  }
 },
 "nbformat": 4,
 "nbformat_minor": 5
}
