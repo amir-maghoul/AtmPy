{
 "cells": [
  {
   "cell_type": "code",
   "id": "initial_id",
   "metadata": {
    "collapsed": true,
    "ExecuteTime": {
     "end_time": "2025-06-15T13:31:38.794196Z",
     "start_time": "2025-06-15T13:31:38.792291Z"
    }
   },
   "source": "import numpy as np",
   "outputs": [],
   "execution_count": 51
  },
  {
   "metadata": {
    "ExecuteTime": {
     "end_time": "2025-06-15T13:31:38.807954Z",
     "start_time": "2025-06-15T13:31:38.804399Z"
    }
   },
   "cell_type": "code",
   "source": [
    "def set_ghostnodes_p2(p, ndim, igs):\n",
    "    for dim in range(ndim):\n",
    "        print(get_ghost_padding(ndim, dim, igs))\n",
    "        ghost_padding, idx = get_ghost_padding(ndim, dim, igs)\n",
    "\n",
    "        p[...] = np.pad(p[idx], ghost_padding, periodic_plus_one)\n",
    "\n",
    "def get_ghost_padding(ndim, dim, igs):\n",
    "    ghost_padding = [(0, 0)] * ndim\n",
    "    ghost_padding[dim] = (igs[dim], igs[dim])\n",
    "\n",
    "    padded_idx = np.empty((ndim), dtype=object)\n",
    "    for idim in range(ndim):\n",
    "        padded_idx[idim] = slice(igs[idim], -igs[idim])\n",
    "    padded_idx[dim] = slice(None)\n",
    "\n",
    "    inner_domain = [slice(None)] * ndim\n",
    "    inner_domain[dim] = slice(igs[dim], -igs[dim])\n",
    "\n",
    "    return tuple(ghost_padding), tuple(inner_domain)\n",
    "\n",
    "def periodic_plus_one(vector, pad_width, iaxis, kwargs=None):\n",
    "    if all(pad_width) > 0:\n",
    "        vector[: pad_width[0] + 1], vector[-pad_width[1] - 1 :] = (\n",
    "            vector[-pad_width[1] - pad_width[1] - 1 : -pad_width[1]],\n",
    "            vector[pad_width[0] : pad_width[0] + pad_width[0] + 1].copy(),\n",
    "        )\n",
    "    return vector"
   ],
   "id": "b3845db9bcadef8f",
   "outputs": [],
   "execution_count": 52
  },
  {
   "metadata": {
    "ExecuteTime": {
     "end_time": "2025-06-15T13:31:38.856566Z",
     "start_time": "2025-06-15T13:31:38.854394Z"
    }
   },
   "cell_type": "code",
   "source": [
    "igs = (2, 2)\n",
    "ndim = 2"
   ],
   "id": "eb4496a198e57174",
   "outputs": [],
   "execution_count": 53
  },
  {
   "metadata": {
    "ExecuteTime": {
     "end_time": "2025-06-15T13:31:38.903617Z",
     "start_time": "2025-06-15T13:31:38.900515Z"
    }
   },
   "cell_type": "code",
   "source": [
    "p = np.arange(110).reshape(11, 10)\n",
    "p"
   ],
   "id": "92ee978d9a8cd8b0",
   "outputs": [
    {
     "data": {
      "text/plain": [
       "array([[  0,   1,   2,   3,   4,   5,   6,   7,   8,   9],\n",
       "       [ 10,  11,  12,  13,  14,  15,  16,  17,  18,  19],\n",
       "       [ 20,  21,  22,  23,  24,  25,  26,  27,  28,  29],\n",
       "       [ 30,  31,  32,  33,  34,  35,  36,  37,  38,  39],\n",
       "       [ 40,  41,  42,  43,  44,  45,  46,  47,  48,  49],\n",
       "       [ 50,  51,  52,  53,  54,  55,  56,  57,  58,  59],\n",
       "       [ 60,  61,  62,  63,  64,  65,  66,  67,  68,  69],\n",
       "       [ 70,  71,  72,  73,  74,  75,  76,  77,  78,  79],\n",
       "       [ 80,  81,  82,  83,  84,  85,  86,  87,  88,  89],\n",
       "       [ 90,  91,  92,  93,  94,  95,  96,  97,  98,  99],\n",
       "       [100, 101, 102, 103, 104, 105, 106, 107, 108, 109]])"
      ]
     },
     "execution_count": 54,
     "metadata": {},
     "output_type": "execute_result"
    }
   ],
   "execution_count": 54
  },
  {
   "metadata": {
    "ExecuteTime": {
     "end_time": "2025-06-15T13:31:38.978630Z",
     "start_time": "2025-06-15T13:31:38.975123Z"
    }
   },
   "cell_type": "code",
   "source": [
    "p2 = p.copy()\n",
    "set_ghostnodes_p2(p2, ndim, igs)\n",
    "p2"
   ],
   "id": "ce3159710ab4c642",
   "outputs": [
    {
     "name": "stdout",
     "output_type": "stream",
     "text": [
      "(((2, 2), (0, 0)), (slice(2, -2, None), slice(None, None, None)))\n",
      "(((0, 0), (2, 2)), (slice(None, None, None), slice(2, -2, None)))\n"
     ]
    },
    {
     "data": {
      "text/plain": [
       "array([[65, 66, 67, 63, 64, 65, 66, 62, 63, 64],\n",
       "       [75, 76, 77, 73, 74, 75, 76, 72, 73, 74],\n",
       "       [85, 86, 87, 83, 84, 85, 86, 82, 83, 84],\n",
       "       [35, 36, 37, 33, 34, 35, 36, 32, 33, 34],\n",
       "       [45, 46, 47, 43, 44, 45, 46, 42, 43, 44],\n",
       "       [55, 56, 57, 53, 54, 55, 56, 52, 53, 54],\n",
       "       [65, 66, 67, 63, 64, 65, 66, 62, 63, 64],\n",
       "       [75, 76, 77, 73, 74, 75, 76, 72, 73, 74],\n",
       "       [25, 26, 27, 23, 24, 25, 26, 22, 23, 24],\n",
       "       [35, 36, 37, 33, 34, 35, 36, 32, 33, 34],\n",
       "       [45, 46, 47, 43, 44, 45, 46, 42, 43, 44]])"
      ]
     },
     "execution_count": 55,
     "metadata": {},
     "output_type": "execute_result"
    }
   ],
   "execution_count": 55
  }
 ],
 "metadata": {
  "kernelspec": {
   "display_name": "Python 3",
   "language": "python",
   "name": "python3"
  },
  "language_info": {
   "codemirror_mode": {
    "name": "ipython",
    "version": 2
   },
   "file_extension": ".py",
   "mimetype": "text/x-python",
   "name": "python",
   "nbconvert_exporter": "python",
   "pygments_lexer": "ipython2",
   "version": "2.7.6"
  }
 },
 "nbformat": 4,
 "nbformat_minor": 5
}
