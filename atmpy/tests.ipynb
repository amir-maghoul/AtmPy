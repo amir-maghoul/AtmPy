{
 "cells": [
  {
   "metadata": {
    "ExecuteTime": {
     "end_time": "2025-08-29T12:12:17.250533Z",
     "start_time": "2025-08-29T12:12:17.247808Z"
    }
   },
   "cell_type": "code",
   "source": "import numpy as np",
   "id": "e023f20eead12080",
   "outputs": [],
   "execution_count": 10
  },
  {
   "cell_type": "code",
   "id": "initial_id",
   "metadata": {
    "collapsed": true,
    "ExecuteTime": {
     "end_time": "2025-08-29T12:12:17.264759Z",
     "start_time": "2025-08-29T12:12:17.261276Z"
    }
   },
   "source": [
    "def scale_wall_node_values(rhs,factor=0.5):\n",
    "    \"\"\"Scale values at wall boundary nodes by a given factor.\"\"\"\n",
    "    ndim = 2\n",
    "    igs = (2, 2)\n",
    "\n",
    "    for dim in range(ndim):\n",
    "        # Create index for all dimensions\n",
    "        idx = [slice(igs[d], -igs[d]) for d in range(ndim)]\n",
    "\n",
    "        # Scale first and last interior nodes in this dimension\n",
    "        for boundary_idx in [igs[dim], -igs[dim] - 1]:\n",
    "            idx[dim] = boundary_idx\n",
    "            rhs[tuple(idx)] *= factor\n",
    "            # rhs = rhs.at[tuple(idx)].multiply(factor)\n",
    "\n",
    "    return rhs"
   ],
   "outputs": [],
   "execution_count": 11
  },
  {
   "metadata": {
    "ExecuteTime": {
     "end_time": "2025-08-29T12:12:17.315988Z",
     "start_time": "2025-08-29T12:12:17.309933Z"
    }
   },
   "cell_type": "code",
   "source": [
    "rhs = np.ones((10, 10))\n",
    "scale_wall_node_values(rhs)"
   ],
   "id": "9d5178d108a3e571",
   "outputs": [
    {
     "data": {
      "text/plain": [
       "array([[1.  , 1.  , 1.  , 1.  , 1.  , 1.  , 1.  , 1.  , 1.  , 1.  ],\n",
       "       [1.  , 1.  , 1.  , 1.  , 1.  , 1.  , 1.  , 1.  , 1.  , 1.  ],\n",
       "       [1.  , 1.  , 0.25, 0.5 , 0.5 , 0.5 , 0.5 , 0.25, 1.  , 1.  ],\n",
       "       [1.  , 1.  , 0.5 , 1.  , 1.  , 1.  , 1.  , 0.5 , 1.  , 1.  ],\n",
       "       [1.  , 1.  , 0.5 , 1.  , 1.  , 1.  , 1.  , 0.5 , 1.  , 1.  ],\n",
       "       [1.  , 1.  , 0.5 , 1.  , 1.  , 1.  , 1.  , 0.5 , 1.  , 1.  ],\n",
       "       [1.  , 1.  , 0.5 , 1.  , 1.  , 1.  , 1.  , 0.5 , 1.  , 1.  ],\n",
       "       [1.  , 1.  , 0.25, 0.5 , 0.5 , 0.5 , 0.5 , 0.25, 1.  , 1.  ],\n",
       "       [1.  , 1.  , 1.  , 1.  , 1.  , 1.  , 1.  , 1.  , 1.  , 1.  ],\n",
       "       [1.  , 1.  , 1.  , 1.  , 1.  , 1.  , 1.  , 1.  , 1.  , 1.  ]])"
      ]
     },
     "execution_count": 12,
     "metadata": {},
     "output_type": "execute_result"
    }
   ],
   "execution_count": 12
  }
 ],
 "metadata": {
  "kernelspec": {
   "display_name": "Python 3",
   "language": "python",
   "name": "python3"
  },
  "language_info": {
   "codemirror_mode": {
    "name": "ipython",
    "version": 2
   },
   "file_extension": ".py",
   "mimetype": "text/x-python",
   "name": "python",
   "nbconvert_exporter": "python",
   "pygments_lexer": "ipython2",
   "version": "2.7.6"
  }
 },
 "nbformat": 4,
 "nbformat_minor": 5
}
